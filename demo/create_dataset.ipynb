{
 "cells": [
  {
   "cell_type": "code",
   "execution_count": 1,
   "metadata": {
    "colab": {
     "base_uri": "https://localhost:8080/"
    },
    "id": "glngzI8Wtnuz",
    "outputId": "bed2f4ea-f070-4cd8-9991-a7d559757670"
   },
   "outputs": [
    {
     "name": "stdout",
     "output_type": "stream",
     "text": [
      "  Installing build dependencies ... \u001b[?25l\u001b[?25hdone\n",
      "  Getting requirements to build wheel ... \u001b[?25l\u001b[?25hdone\n",
      "  Preparing metadata (pyproject.toml) ... \u001b[?25l\u001b[?25hdone\n",
      "\u001b[2K     \u001b[90m━━━━━━━━━━━━━━━━━━━━━━━━━━━━━━━━━━━━━━━━\u001b[0m \u001b[32m87.2/87.2 kB\u001b[0m \u001b[31m3.2 MB/s\u001b[0m eta \u001b[36m0:00:00\u001b[0m\n",
      "\u001b[?25h  Preparing metadata (setup.py) ... \u001b[?25l\u001b[?25hdone\n",
      "\u001b[2K     \u001b[90m━━━━━━━━━━━━━━━━━━━━━━━━━━━━━━━━━━━━━━━━\u001b[0m \u001b[32m44.3/44.3 kB\u001b[0m \u001b[31m2.2 MB/s\u001b[0m eta \u001b[36m0:00:00\u001b[0m\n",
      "\u001b[2K   \u001b[90m━━━━━━━━━━━━━━━━━━━━━━━━━━━━━━━━━━━━━━━━\u001b[0m \u001b[32m61.6/61.6 kB\u001b[0m \u001b[31m3.7 MB/s\u001b[0m eta \u001b[36m0:00:00\u001b[0m\n",
      "\u001b[2K   \u001b[90m━━━━━━━━━━━━━━━━━━━━━━━━━━━━━━━━━━━━━━━━\u001b[0m \u001b[32m9.6/9.6 MB\u001b[0m \u001b[31m78.6 MB/s\u001b[0m eta \u001b[36m0:00:00\u001b[0m\n",
      "\u001b[2K   \u001b[90m━━━━━━━━━━━━━━━━━━━━━━━━━━━━━━━━━━━━━━━━\u001b[0m \u001b[32m6.9/6.9 MB\u001b[0m \u001b[31m79.0 MB/s\u001b[0m eta \u001b[36m0:00:00\u001b[0m\n",
      "\u001b[2K   \u001b[90m━━━━━━━━━━━━━━━━━━━━━━━━━━━━━━━━━━━━━━━━\u001b[0m \u001b[32m79.1/79.1 kB\u001b[0m \u001b[31m6.0 MB/s\u001b[0m eta \u001b[36m0:00:00\u001b[0m\n",
      "\u001b[?25h  Building wheel for osm-ai-helper (pyproject.toml) ... \u001b[?25l\u001b[?25hdone\n",
      "  Building wheel for fire (setup.py) ... \u001b[?25l\u001b[?25hdone\n",
      "\u001b[2K   \u001b[90m━━━━━━━━━━━━━━━━━━━━━━━━━━━━━━━━━━━━━━━━\u001b[0m \u001b[32m914.7/914.7 kB\u001b[0m \u001b[31m28.6 MB/s\u001b[0m eta \u001b[36m0:00:00\u001b[0m\n",
      "\u001b[2K   \u001b[90m━━━━━━━━━━━━━━━━━━━━━━━━━━━━━━━━━━━━━━━━\u001b[0m \u001b[32m363.4/363.4 MB\u001b[0m \u001b[31m2.5 MB/s\u001b[0m eta \u001b[36m0:00:00\u001b[0m\n",
      "\u001b[2K   \u001b[90m━━━━━━━━━━━━━━━━━━━━━━━━━━━━━━━━━━━━━━━━\u001b[0m \u001b[32m13.8/13.8 MB\u001b[0m \u001b[31m81.1 MB/s\u001b[0m eta \u001b[36m0:00:00\u001b[0m\n",
      "\u001b[2K   \u001b[90m━━━━━━━━━━━━━━━━━━━━━━━━━━━━━━━━━━━━━━━━\u001b[0m \u001b[32m24.6/24.6 MB\u001b[0m \u001b[31m32.7 MB/s\u001b[0m eta \u001b[36m0:00:00\u001b[0m\n",
      "\u001b[2K   \u001b[90m━━━━━━━━━━━━━━━━━━━━━━━━━━━━━━━━━━━━━━━━\u001b[0m \u001b[32m883.7/883.7 kB\u001b[0m \u001b[31m30.8 MB/s\u001b[0m eta \u001b[36m0:00:00\u001b[0m\n",
      "\u001b[2K   \u001b[90m━━━━━━━━━━━━━━━━━━━━━━━━━━━━━━━━━━━━━━━━\u001b[0m \u001b[32m664.8/664.8 MB\u001b[0m \u001b[31m2.7 MB/s\u001b[0m eta \u001b[36m0:00:00\u001b[0m\n",
      "\u001b[2K   \u001b[90m━━━━━━━━━━━━━━━━━━━━━━━━━━━━━━━━━━━━━━━━\u001b[0m \u001b[32m211.5/211.5 MB\u001b[0m \u001b[31m5.7 MB/s\u001b[0m eta \u001b[36m0:00:00\u001b[0m\n",
      "\u001b[2K   \u001b[90m━━━━━━━━━━━━━━━━━━━━━━━━━━━━━━━━━━━━━━━━\u001b[0m \u001b[32m56.3/56.3 MB\u001b[0m \u001b[31m10.7 MB/s\u001b[0m eta \u001b[36m0:00:00\u001b[0m\n",
      "\u001b[2K   \u001b[90m━━━━━━━━━━━━━━━━━━━━━━━━━━━━━━━━━━━━━━━━\u001b[0m \u001b[32m127.9/127.9 MB\u001b[0m \u001b[31m7.5 MB/s\u001b[0m eta \u001b[36m0:00:00\u001b[0m\n",
      "\u001b[2K   \u001b[90m━━━━━━━━━━━━━━━━━━━━━━━━━━━━━━━━━━━━━━━━\u001b[0m \u001b[32m207.5/207.5 MB\u001b[0m \u001b[31m5.9 MB/s\u001b[0m eta \u001b[36m0:00:00\u001b[0m\n",
      "\u001b[2K   \u001b[90m━━━━━━━━━━━━━━━━━━━━━━━━━━━━━━━━━━━━━━━━\u001b[0m \u001b[32m21.1/21.1 MB\u001b[0m \u001b[31m74.1 MB/s\u001b[0m eta \u001b[36m0:00:00\u001b[0m\n",
      "\u001b[?25h"
     ]
    }
   ],
   "source": [
    "%pip install --quiet git+https://github.com/mozilla-ai/osm-ai-helper.git\n",
    "%pip install --quiet ultralytics"
   ]
  },
  {
   "cell_type": "code",
   "execution_count": 2,
   "metadata": {
    "id": "IrANDMa7tm3v"
   },
   "outputs": [],
   "source": [
    "from osm_ai_helper.download_osm import download_osm"
   ]
  },
  {
   "cell_type": "code",
   "execution_count": null,
   "metadata": {
    "id": "N3Z6Kd-otm3y"
   },
   "outputs": [],
   "source": [
    "TRAIN_AREA = \"Galicia\"\n",
    "TEST_AREA = \"Asturias\"\n",
    "SELECTOR = \"leisure=swimming_pool\"\n",
    "DISCARD = {\"location\": \"indoor\"}\n",
    "CLASS_NAME = \"swimming_pool\""
   ]
  },
  {
   "cell_type": "code",
   "execution_count": null,
   "metadata": {
    "colab": {
     "base_uri": "https://localhost:8080/"
    },
    "id": "MfyKnOb8-Hfb",
    "outputId": "dcc26310-52a0-4fa3-c891-0343855f2b96"
   },
   "outputs": [
    {
     "name": "stderr",
     "output_type": "stream",
     "text": [
      "\u001b[32m2025-02-12 12:16:07.812\u001b[0m | \u001b[1mINFO    \u001b[0m | \u001b[36mosm_ai_helper.download_osm\u001b[0m:\u001b[36mdownload_osm\u001b[0m:\u001b[36m39\u001b[0m - \u001b[1mDownloading osm data for Ponteareas\u001b[0m\n",
      "\u001b[32m2025-02-12 12:16:09.268\u001b[0m | \u001b[1mINFO    \u001b[0m | \u001b[36mosm_ai_helper.download_osm\u001b[0m:\u001b[36mdownload_osm\u001b[0m:\u001b[36m47\u001b[0m - \u001b[1mWriting 103 elements to datasets/Ponteareas.json\u001b[0m\n",
      "\u001b[32m2025-02-12 12:16:09.274\u001b[0m | \u001b[32m\u001b[1mSUCCESS \u001b[0m | \u001b[36mosm_ai_helper.download_osm\u001b[0m:\u001b[36mdownload_osm\u001b[0m:\u001b[36m49\u001b[0m - \u001b[32m\u001b[1mDone!\u001b[0m\n"
     ]
    }
   ],
   "source": [
    "download_osm(\n",
    "    area=TRAIN_AREA,\n",
    "    output_dir=\"datasets\",\n",
    "    selector=SELECTOR,\n",
    "    discard=DISCARD,\n",
    ")"
   ]
  },
  {
   "cell_type": "code",
   "execution_count": null,
   "metadata": {
    "colab": {
     "base_uri": "https://localhost:8080/"
    },
    "id": "frI7ZZWf-H3r",
    "outputId": "a6bf2e13-03a9-438a-a694-77039fe38ac8"
   },
   "outputs": [
    {
     "name": "stderr",
     "output_type": "stream",
     "text": [
      "\u001b[32m2025-02-12 12:15:18.827\u001b[0m | \u001b[1mINFO    \u001b[0m | \u001b[36mosm_ai_helper.download_osm\u001b[0m:\u001b[36mdownload_osm\u001b[0m:\u001b[36m39\u001b[0m - \u001b[1mDownloading osm data for Mondariz\u001b[0m\n",
      "\u001b[32m2025-02-12 12:15:19.803\u001b[0m | \u001b[1mINFO    \u001b[0m | \u001b[36mosm_ai_helper.download_osm\u001b[0m:\u001b[36mdownload_osm\u001b[0m:\u001b[36m47\u001b[0m - \u001b[1mWriting 9 elements to datasets/Mondariz.json\u001b[0m\n",
      "\u001b[32m2025-02-12 12:15:19.806\u001b[0m | \u001b[32m\u001b[1mSUCCESS \u001b[0m | \u001b[36mosm_ai_helper.download_osm\u001b[0m:\u001b[36mdownload_osm\u001b[0m:\u001b[36m49\u001b[0m - \u001b[32m\u001b[1mDone!\u001b[0m\n"
     ]
    }
   ],
   "source": [
    "download_osm(\n",
    "    area=TEST_AREA,\n",
    "    output_dir=\"datasets\",\n",
    "    selector=SELECTOR,\n",
    "    discard=DISCARD,\n",
    ")"
   ]
  },
  {
   "cell_type": "code",
   "execution_count": 6,
   "metadata": {
    "id": "nFCrbArktm3z"
   },
   "outputs": [],
   "source": [
    "from google.colab import userdata\n",
    "\n",
    "from osm_ai_helper.group_elements_and_download_tiles import (\n",
    "    group_elements_and_download_tiles,\n",
    ")"
   ]
  },
  {
   "cell_type": "code",
   "execution_count": 9,
   "metadata": {
    "colab": {
     "base_uri": "https://localhost:8080/"
    },
    "id": "Gx7GlfJhtm31",
    "outputId": "c5c277d1-3cb2-45c0-9a54-7a85ab2decb4"
   },
   "outputs": [
    {
     "name": "stderr",
     "output_type": "stream",
     "text": [
      "\u001b[32m2025-02-12 12:16:12.914\u001b[0m | \u001b[1mINFO    \u001b[0m | \u001b[36mosm_ai_helper.group_elements_and_download_tiles\u001b[0m:\u001b[36mgroup_elements_and_download_tiles\u001b[0m:\u001b[36m35\u001b[0m - \u001b[1mGrouping elements by tile\u001b[0m\n",
      "\u001b[32m2025-02-12 12:16:12.935\u001b[0m | \u001b[1mINFO    \u001b[0m | \u001b[36mosm_ai_helper.group_elements_and_download_tiles\u001b[0m:\u001b[36mgroup_elements_and_download_tiles\u001b[0m:\u001b[36m40\u001b[0m - \u001b[1mDownloading tiles and writing annotation\u001b[0m\n",
      "\u001b[32m2025-02-12 12:16:12.939\u001b[0m | \u001b[1mINFO    \u001b[0m | \u001b[36mosm_ai_helper.group_elements_and_download_tiles\u001b[0m:\u001b[36mgroup_elements_and_download_tiles\u001b[0m:\u001b[36m43\u001b[0m - \u001b[1mProcessed 0/70 tiles\u001b[0m\n",
      "\u001b[32m2025-02-12 12:16:15.917\u001b[0m | \u001b[1mINFO    \u001b[0m | \u001b[36mosm_ai_helper.group_elements_and_download_tiles\u001b[0m:\u001b[36mgroup_elements_and_download_tiles\u001b[0m:\u001b[36m43\u001b[0m - \u001b[1mProcessed 50/70 tiles\u001b[0m\n"
     ]
    }
   ],
   "source": [
    "group_elements_and_download_tiles(\n",
    "    f\"datasets/{TRAIN_AREA}.json\",\n",
    "    f\"datasets/{TRAIN_AREA}\",\n",
    "    userdata.get(\"MAPBOX_TOKEN\"),\n",
    ")"
   ]
  },
  {
   "cell_type": "code",
   "execution_count": 10,
   "metadata": {
    "colab": {
     "base_uri": "https://localhost:8080/"
    },
    "id": "FwuGbRsg-Jpx",
    "outputId": "b71a395b-82e1-4edc-8727-aaf2c017417b"
   },
   "outputs": [
    {
     "name": "stderr",
     "output_type": "stream",
     "text": [
      "\u001b[32m2025-02-12 12:16:17.930\u001b[0m | \u001b[1mINFO    \u001b[0m | \u001b[36mosm_ai_helper.group_elements_and_download_tiles\u001b[0m:\u001b[36mgroup_elements_and_download_tiles\u001b[0m:\u001b[36m35\u001b[0m - \u001b[1mGrouping elements by tile\u001b[0m\n",
      "\u001b[32m2025-02-12 12:16:17.933\u001b[0m | \u001b[1mINFO    \u001b[0m | \u001b[36mosm_ai_helper.group_elements_and_download_tiles\u001b[0m:\u001b[36mgroup_elements_and_download_tiles\u001b[0m:\u001b[36m40\u001b[0m - \u001b[1mDownloading tiles and writing annotation\u001b[0m\n",
      "\u001b[32m2025-02-12 12:16:17.935\u001b[0m | \u001b[1mINFO    \u001b[0m | \u001b[36mosm_ai_helper.group_elements_and_download_tiles\u001b[0m:\u001b[36mgroup_elements_and_download_tiles\u001b[0m:\u001b[36m43\u001b[0m - \u001b[1mProcessed 0/11 tiles\u001b[0m\n"
     ]
    }
   ],
   "source": [
    "group_elements_and_download_tiles(\n",
    "    f\"datasets/{TEST_AREA}.json\", f\"datasets/{TEST_AREA}\", userdata.get(\"MAPBOX_TOKEN\")\n",
    ")"
   ]
  },
  {
   "cell_type": "code",
   "execution_count": 11,
   "metadata": {
    "id": "aWEnpkBctm31"
   },
   "outputs": [],
   "source": [
    "from osm_ai_helper.convert_to_yolo_dataset import convert_to_yolo_dataset"
   ]
  },
  {
   "cell_type": "code",
   "execution_count": 12,
   "metadata": {
    "id": "ZIueAXLqtm32"
   },
   "outputs": [],
   "source": [
    "convert_to_yolo_dataset(f\"datasets/{TRAIN_AREA}\")"
   ]
  },
  {
   "cell_type": "code",
   "execution_count": 13,
   "metadata": {
    "id": "cGJqL558-THJ"
   },
   "outputs": [],
   "source": [
    "convert_to_yolo_dataset(f\"datasets/{TEST_AREA}\")"
   ]
  },
  {
   "cell_type": "markdown",
   "metadata": {},
   "source": [
    "# Check out of the box predictions"
   ]
  },
  {
   "cell_type": "code",
   "execution_count": null,
   "metadata": {},
   "outputs": [],
   "source": [
    "from pathlib import Path\n",
    "from ultralytics import YOLO"
   ]
  },
  {
   "cell_type": "code",
   "execution_count": null,
   "metadata": {},
   "outputs": [],
   "source": [
    "yolo = YOLO(\"yolo11m.pt\")"
   ]
  },
  {
   "cell_type": "code",
   "execution_count": null,
   "metadata": {},
   "outputs": [],
   "source": [
    "yolo.predict(list(Path(f\"datasets/{TEST_AREA}\").glob(\"*.jpg\"))[0], save=True)"
   ]
  },
  {
   "cell_type": "markdown",
   "metadata": {},
   "source": [
    "# Upload Dataset"
   ]
  },
  {
   "cell_type": "code",
   "execution_count": null,
   "metadata": {},
   "outputs": [],
   "source": []
  },
  {
   "cell_type": "code",
   "execution_count": null,
   "metadata": {
    "colab": {
     "base_uri": "https://localhost:8080/"
    },
    "id": "rN3I8ukd_cup",
    "outputId": "485878ba-94f8-4891-966b-ccb5f62f16ea"
   },
   "outputs": [
    {
     "data": {
      "text/plain": [
       "68"
      ]
     },
     "execution_count": 14,
     "metadata": {},
     "output_type": "execute_result"
    }
   ],
   "source": [
    "Path(\"yolo_dataset.yaml\").write_text(\n",
    "    f\"\"\"\n",
    "path: .\n",
    "train: {TRAIN_AREA}\n",
    "val: {TEST_AREA}\n",
    "\n",
    "names:\n",
    "  0: {CLASS_NAME}\n",
    "\"\"\"\n",
    ")"
   ]
  },
  {
   "cell_type": "code",
   "execution_count": null,
   "metadata": {
    "id": "vhHuBREHAkap"
   },
   "outputs": [],
   "source": []
  },
  {
   "cell_type": "code",
   "execution_count": null,
   "metadata": {
    "id": "V9EAJyQXAfmh"
   },
   "outputs": [],
   "source": []
  },
  {
   "cell_type": "code",
   "execution_count": null,
   "metadata": {
    "colab": {
     "base_uri": "https://localhost:8080/"
    },
    "id": "E30UlYaiBFm4",
    "outputId": "ee229531-8d28-4c7a-dc10-9d4eb0ae74da"
   },
   "outputs": [
    {
     "name": "stdout",
     "output_type": "stream",
     "text": [
      "Downloading https://github.com/ultralytics/assets/releases/download/v8.3.0/yolo11m.pt to 'yolo11m.pt'...\n"
     ]
    },
    {
     "name": "stderr",
     "output_type": "stream",
     "text": [
      "100%|██████████| 38.8M/38.8M [00:00<00:00, 291MB/s]\n"
     ]
    }
   ],
   "source": []
  }
 ],
 "metadata": {
  "accelerator": "GPU",
  "colab": {
   "gpuType": "T4",
   "provenance": []
  },
  "kernelspec": {
   "display_name": "Python 3",
   "name": "python3"
  },
  "language_info": {
   "codemirror_mode": {
    "name": "ipython",
    "version": 3
   },
   "file_extension": ".py",
   "mimetype": "text/x-python",
   "name": "python",
   "nbconvert_exporter": "python",
   "pygments_lexer": "ipython3",
   "version": "3.10.12"
  }
 },
 "nbformat": 4,
 "nbformat_minor": 0
}
