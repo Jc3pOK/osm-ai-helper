{
  "cells": [
    {
      "cell_type": "code",
      "execution_count": null,
      "metadata": {
        "id": "glngzI8Wtnuz"
      },
      "outputs": [],
      "source": [
        "%pip install --quiet git+https://github.com/mozilla-ai/osm-ai-helper.git\n",
        "%pip install --quiet ultralytics"
      ]
    },
    {
      "cell_type": "code",
      "execution_count": null,
      "metadata": {
        "id": "IrANDMa7tm3v"
      },
      "outputs": [],
      "source": [
        "from osm_ai_helper.download_osm import download_osm"
      ]
    },
    {
      "cell_type": "code",
      "execution_count": null,
      "metadata": {
        "id": "N3Z6Kd-otm3y"
      },
      "outputs": [],
      "source": [
        "TRAIN_AREA = \"Ponteareas\"\n",
        "TEST_AREA = \"Mondariz\""
      ]
    },
    {
      "cell_type": "code",
      "source": [
        "download_osm(\n",
        "    area=TRAIN_AREA,\n",
        "    output_dir=\"dataset\",\n",
        "    selector=\"leisure=swimming_pool\",\n",
        "    discard={\"location\": \"indoor\"},\n",
        ")"
      ],
      "metadata": {
        "id": "MfyKnOb8-Hfb"
      },
      "execution_count": null,
      "outputs": []
    },
    {
      "cell_type": "code",
      "source": [
        "download_osm(\n",
        "    area=TEST_AREA,\n",
        "    output_dir=\"dataset\",\n",
        "    selector=\"leisure=swimming_pool\",\n",
        "    discard={\"location\": \"indoor\"},\n",
        ")"
      ],
      "metadata": {
        "id": "frI7ZZWf-H3r"
      },
      "execution_count": null,
      "outputs": []
    },
    {
      "cell_type": "code",
      "execution_count": null,
      "metadata": {
        "id": "nFCrbArktm3z"
      },
      "outputs": [],
      "source": [
        "from google.colab import userdata\n",
        "\n",
        "from osm_ai_helper.group_elements_and_download_tiles import (\n",
        "    group_elements_and_download_tiles,\n",
        ")"
      ]
    },
    {
      "cell_type": "code",
      "execution_count": null,
      "metadata": {
        "id": "Gx7GlfJhtm31"
      },
      "outputs": [],
      "source": [
        "group_elements_and_download_tiles(\n",
        "    f\"dataset/{TRAIN_AREA}.json\",\n",
        "    f\"dataset/{TRAIN_AREA}\",\n",
        "    userdata.get(\"MAPBOX_TOKEN\")\n",
        ")"
      ]
    },
    {
      "cell_type": "code",
      "source": [
        "group_elements_and_download_tiles(\n",
        "    f\"dataset/{TEST_AREA}.json\",\n",
        "    f\"dataset/{TEST_AREA}\",\n",
        "    userdata.get(\"MAPBOX_TOKEN\")\n",
        ")"
      ],
      "metadata": {
        "id": "FwuGbRsg-Jpx"
      },
      "execution_count": null,
      "outputs": []
    },
    {
      "cell_type": "code",
      "execution_count": null,
      "metadata": {
        "id": "aWEnpkBctm31"
      },
      "outputs": [],
      "source": [
        "from osm_ai_helper.convert_to_yolo_dataset import convert_to_yolo_dataset"
      ]
    },
    {
      "cell_type": "code",
      "execution_count": null,
      "metadata": {
        "id": "ZIueAXLqtm32"
      },
      "outputs": [],
      "source": [
        "convert_to_yolo_dataset(f\"dataset/{TRAIN_AREA}\")"
      ]
    },
    {
      "cell_type": "code",
      "source": [
        "convert_to_yolo_dataset(f\"dataset/{TEST_AREA}\")"
      ],
      "metadata": {
        "id": "cGJqL558-THJ"
      },
      "execution_count": null,
      "outputs": []
    },
    {
      "cell_type": "code",
      "source": [
        "from pathlib import Path\n",
        "\n",
        "Path(\"yolo_dataset.yaml\").write_text(\n",
        "f\"\"\"\n",
        "path: ./dataset\n",
        "train: {TRAIN_AREA}\n",
        "val: {TEST_AREA}\n",
        "\n",
        "names:\n",
        "  0: swimming_pool\n",
        "\"\"\"\n",
        ")"
      ],
      "metadata": {
        "id": "rN3I8ukd_cup"
      },
      "execution_count": null,
      "outputs": []
    },
    {
      "cell_type": "code",
      "source": [],
      "metadata": {
        "id": "vhHuBREHAkap"
      },
      "execution_count": null,
      "outputs": []
    },
    {
      "cell_type": "code",
      "source": [],
      "metadata": {
        "id": "V9EAJyQXAfmh"
      },
      "execution_count": null,
      "outputs": []
    },
    {
      "cell_type": "markdown",
      "metadata": {
        "id": "n02AfCxh9-pG"
      },
      "source": [
        "# Finetune model"
      ]
    },
    {
      "cell_type": "code",
      "source": [
        "from ultralytics import YOLO"
      ],
      "metadata": {
        "id": "yJE8xR6lBlEu"
      },
      "execution_count": null,
      "outputs": []
    },
    {
      "cell_type": "code",
      "source": [
        "yolo = YOLO(\"yolo11m.pt\")"
      ],
      "metadata": {
        "id": "E30UlYaiBFm4"
      },
      "execution_count": null,
      "outputs": []
    },
    {
      "cell_type": "code",
      "source": [
        "yolo.train(data=\"yolo_dataset.yaml\", epochs=1, imgsz=512)"
      ],
      "metadata": {
        "id": "KfDnK_OXBO0-"
      },
      "execution_count": null,
      "outputs": []
    },
    {
      "cell_type": "code",
      "source": [],
      "metadata": {
        "id": "yL_ZYPntBXsP"
      },
      "execution_count": null,
      "outputs": []
    }
  ],
  "metadata": {
    "colab": {
      "provenance": []
    },
    "kernelspec": {
      "display_name": "Python 3",
      "name": "python3"
    },
    "language_info": {
      "codemirror_mode": {
        "name": "ipython",
        "version": 3
      },
      "file_extension": ".py",
      "mimetype": "text/x-python",
      "name": "python",
      "nbconvert_exporter": "python",
      "pygments_lexer": "ipython3",
      "version": "3.10.12"
    }
  },
  "nbformat": 4,
  "nbformat_minor": 0
}